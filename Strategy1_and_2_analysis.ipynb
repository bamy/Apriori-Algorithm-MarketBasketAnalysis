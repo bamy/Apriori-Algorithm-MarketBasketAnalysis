{
 "cells": [
  {
   "cell_type": "code",
   "execution_count": 47,
   "metadata": {},
   "outputs": [],
   "source": [
    "import os\n",
    "import sys\n",
    "os.environ[\"PYSPARK_PYTHON\"] = \"/usr/bin/python3\"\n",
    "os.environ[\"JAVA_HOME\"] = \"/usr/java/jdk1.8.0_161/jre\"\n",
    "os.environ[\"SPARK_HOME\"] = \"/home/ec2-user/spark-2.4.4-bin-hadoop2.7\"\n",
    "os.environ[\"PYLIB\"] = os.environ[\"SPARK_HOME\"] + \"/python/lib\"\n",
    "sys.path.insert(0, os.environ[\"PYLIB\"] +\"/py4j-0.10.7-src.zip\")\n",
    "sys.path.insert(0, os.environ[\"PYLIB\"] +\"/pyspark.zip\")"
   ]
  },
  {
   "cell_type": "code",
   "execution_count": 48,
   "metadata": {},
   "outputs": [],
   "source": [
    "from pyspark.sql import SparkSession\n",
    "\n",
    "MAX_MEMORY = \"5g\"\n",
    "\n",
    "# Creating the SparkSession object\n",
    "\n",
    "spark = SparkSession.builder \\\n",
    "                    .appName('apriori')\\\n",
    "                    .config(\"spark.executor.memory\", MAX_MEMORY) \\\n",
    "                    .config(\"spark.driver.memory\", MAX_MEMORY) \\\n",
    "                    .getOrCreate()"
   ]
  },
  {
   "cell_type": "code",
   "execution_count": 49,
   "metadata": {},
   "outputs": [],
   "source": [
    "##STRATEGY 1"
   ]
  },
  {
   "cell_type": "code",
   "execution_count": 50,
   "metadata": {},
   "outputs": [],
   "source": [
    "#fetching assocation rule from mycsv.csv( saved earlier)\n",
    "from pyspark.sql.functions import col\n",
    "association_rules = spark.read.csv(\"mycsv.csv\", header=True, inferSchema=True)"
   ]
  },
  {
   "cell_type": "code",
   "execution_count": 51,
   "metadata": {},
   "outputs": [],
   "source": [
    "association_rules = association_rules.drop('_c0')\n",
    "association_rules = association_rules.sort(col(\"Confidence\").desc())"
   ]
  },
  {
   "cell_type": "code",
   "execution_count": 52,
   "metadata": {},
   "outputs": [
    {
     "name": "stdout",
     "output_type": "stream",
     "text": [
      "+--------------------+-----------------+-------------------+\n",
      "|          Antecedent|       Consequent|         Confidence|\n",
      "+--------------------+-----------------+-------------------+\n",
      "|['ground beef', '...|['mineral water']| 0.5066666666666667|\n",
      "|['ground beef', '...|['mineral water']|  0.503030303030303|\n",
      "|['ground beef', '...|['mineral water']|0.47398843930635837|\n",
      "|['milk', 'frozen ...|['mineral water']|0.46892655367231634|\n",
      "|            ['soup']|['mineral water']|0.45646437994722955|\n",
      "|['spaghetti', 'pa...|['mineral water']|  0.455026455026455|\n",
      "|['spaghetti', 'ol...|['mineral water']| 0.4476744186046512|\n",
      "|['spaghetti', 'mi...|['mineral water']|0.44360902255639095|\n",
      "|['milk', 'chocola...|['mineral water']|0.43568464730290457|\n",
      "|['spaghetti', 'gr...|['mineral water']| 0.4353741496598639|\n",
      "|['spaghetti', 'fr...|['mineral water']|0.43062200956937796|\n",
      "|    ['milk', 'eggs']|['mineral water']|0.42424242424242425|\n",
      "|       ['olive oil']|['mineral water']| 0.4190283400809717|\n",
      "|['ground beef', '...|    ['spaghetti']|0.41693811074918563|\n",
      "|     ['ground beef']|['mineral water']|0.41655359565807326|\n",
      "|['eggs', 'chocola...|['mineral water']|0.40562248995983935|\n",
      "|['spaghetti', 'ch...|['mineral water']|0.40476190476190477|\n",
      "|          ['salmon']|['mineral water']| 0.4012539184952978|\n",
      "|         ['cereals']|['mineral water']| 0.3989637305699482|\n",
      "|     ['ground beef']|    ['spaghetti']| 0.3989145183175034|\n",
      "+--------------------+-----------------+-------------------+\n",
      "only showing top 20 rows\n",
      "\n"
     ]
    }
   ],
   "source": [
    "association_rules.show()"
   ]
  },
  {
   "cell_type": "code",
   "execution_count": 53,
   "metadata": {},
   "outputs": [],
   "source": [
    "#load the april transaction\n",
    "import ast as ast\n",
    "apr_df = spark.read.csv(\"transactions_apr.csv\")\n",
    "apr_lst = []\n",
    "for row in apr_df.rdd.collect():\n",
    "    apr_lst.append(ast.literal_eval(row[0]))"
   ]
  },
  {
   "cell_type": "code",
   "execution_count": 54,
   "metadata": {},
   "outputs": [
    {
     "data": {
      "text/plain": [
       "[['burgers', 'avocado'],\n",
       " ['low fat yogurt', 'salmon'],\n",
       " ['low fat yogurt'],\n",
       " ['olive oil'],\n",
       " ['turkey', 'salmon'],\n",
       " ['low fat yogurt', 'milk'],\n",
       " ['green tea'],\n",
       " ['shrimp', 'salmon'],\n",
       " ['french fries', 'cooking oil'],\n",
       " ['avocado'],\n",
       " ['red wine', 'chocolate'],\n",
       " ['champagne', 'milk'],\n",
       " ['frozen smoothie', 'fresh bread'],\n",
       " ['herb & pepper', 'green tea'],\n",
       " ['mineral water', 'burgers', 'chocolate']]"
      ]
     },
     "execution_count": 54,
     "metadata": {},
     "output_type": "execute_result"
    }
   ],
   "source": [
    "apr_lst"
   ]
  },
  {
   "cell_type": "code",
   "execution_count": 55,
   "metadata": {},
   "outputs": [],
   "source": [
    "#Find the recommended item(Consequent)\n",
    "recommended_records = []\n",
    "for apr_tran in apr_lst:\n",
    "    itemset = set(apr_tran)\n",
    "    found = False\n",
    "    recommended_item = ''\n",
    "    for row in association_rules.collect():\n",
    "        antecedent_list = (ast.literal_eval(row.asDict()['Antecedent']))\n",
    "        antecedent_as_set = set(antecedent_list)\n",
    "        if itemset == antecedent_as_set:\n",
    "            #print(row)\n",
    "            recommended_item = row\n",
    "            found = True\n",
    "            break\n",
    "        \n",
    "    if not found:\n",
    "        #find the item with maximum confidence\n",
    "        max_conf = 0\n",
    "        for item in apr_tran:\n",
    "            single_item_as_set = set([item])\n",
    "            for row in association_rules.collect():\n",
    "                trans_item = (ast.literal_eval(row.asDict()['Antecedent']))\n",
    "                ruleset = set(trans_item)\n",
    "                #print(single_item_as_set, ruleset)\n",
    "                if single_item_as_set == ruleset:\n",
    "                    confidence = row.asDict()['Confidence']\n",
    "                    if(max_conf < confidence):\n",
    "                        max_conf = confidence\n",
    "                        recommended_item = row\n",
    "    recommended_records.append(recommended_item)"
   ]
  },
  {
   "cell_type": "code",
   "execution_count": 56,
   "metadata": {},
   "outputs": [
    {
     "data": {
      "text/plain": [
       "[Row(Antecedent=\"['avocado']\", Consequent=\"['mineral water']\", Confidence=0.348),\n",
       " Row(Antecedent=\"['salmon']\", Consequent=\"['mineral water']\", Confidence=0.4012539184952978),\n",
       " Row(Antecedent=\"['low fat yogurt']\", Consequent=\"['mineral water']\", Confidence=0.313588850174216),\n",
       " Row(Antecedent=\"['olive oil']\", Consequent=\"['mineral water']\", Confidence=0.4190283400809717),\n",
       " Row(Antecedent=\"['salmon']\", Consequent=\"['mineral water']\", Confidence=0.4012539184952978),\n",
       " Row(Antecedent=\"['milk']\", Consequent=\"['mineral water']\", Confidence=0.3703703703703704),\n",
       " Row(Antecedent=\"['green tea']\", Consequent=\"['mineral water']\", Confidence=0.23511604439959638),\n",
       " Row(Antecedent=\"['salmon']\", Consequent=\"['mineral water']\", Confidence=0.4012539184952978),\n",
       " Row(Antecedent=\"['cooking oil']\", Consequent=\"['mineral water']\", Confidence=0.3942558746736292),\n",
       " Row(Antecedent=\"['avocado']\", Consequent=\"['mineral water']\", Confidence=0.348),\n",
       " Row(Antecedent=\"['red wine']\", Consequent=\"['mineral water']\", Confidence=0.38862559241706157),\n",
       " Row(Antecedent=\"['milk']\", Consequent=\"['mineral water']\", Confidence=0.3703703703703704),\n",
       " Row(Antecedent=\"['frozen smoothie']\", Consequent=\"['mineral water']\", Confidence=0.32),\n",
       " Row(Antecedent=\"['herb & pepper']\", Consequent=\"['mineral water']\", Confidence=0.34501347708894875),\n",
       " Row(Antecedent=\"['burgers']\", Consequent=\"['eggs']\", Confidence=0.33027522935779813)]"
      ]
     },
     "execution_count": 56,
     "metadata": {},
     "output_type": "execute_result"
    }
   ],
   "source": [
    "recommended_records"
   ]
  },
  {
   "cell_type": "code",
   "execution_count": 58,
   "metadata": {},
   "outputs": [
    {
     "name": "stdout",
     "output_type": "stream",
     "text": [
      "['avocado']\n",
      "['salmon']\n",
      "['low fat yogurt']\n",
      "['olive oil']\n",
      "['salmon']\n",
      "['milk']\n",
      "['green tea']\n",
      "['salmon']\n",
      "['cooking oil']\n",
      "['avocado']\n",
      "['red wine']\n",
      "['milk']\n",
      "['frozen smoothie']\n",
      "['herb & pepper']\n",
      "['burgers']\n"
     ]
    }
   ],
   "source": [
    "#association rule for recommendation\n",
    "for row in recommended_records:\n",
    "    print(row.asDict()['Antecedent'])\n"
   ]
  },
  {
   "cell_type": "code",
   "execution_count": 59,
   "metadata": {},
   "outputs": [],
   "source": [
    "item_details_df = spark.read.csv('item_details.csv', inferSchema=True, header=True)"
   ]
  },
  {
   "cell_type": "code",
   "execution_count": 60,
   "metadata": {},
   "outputs": [
    {
     "name": "stdout",
     "output_type": "stream",
     "text": [
      "+-----------------+------------------+---------------+----------------+----+----+\n",
      "|             Item|Selling Price/unit|Cost Price/unit|Share of Revenue| _c4| _c5|\n",
      "+-----------------+------------------+---------------+----------------+----+----+\n",
      "|          avocado|                90|             60|            1.55|null|null|\n",
      "|          burgers|                90|             60|            2.27|null|null|\n",
      "|             cake|               150|             70|            3.79|null|null|\n",
      "|          cereals|                80|             40|            3.11|null|null|\n",
      "|        champagne|               230|            170|            2.34|null|null|\n",
      "|          chicken|                50|             40|            5.12|null|null|\n",
      "|        chocolate|                30|             21|             1.3|null|null|\n",
      "|          cookies|                25|             15|            1.34|null|null|\n",
      "|      cooking oil|               160|            130|            4.37|null|null|\n",
      "|             eggs|                65|             40|            5.56|null|null|\n",
      "|         escalope|                85|             60|            2.21|null|null|\n",
      "|     french fries|                50|             20|            0.24|null|null|\n",
      "|      fresh bread|                30|             15|            3.45|null|null|\n",
      "|  frozen smoothie|                40|             25|            3.17|null|null|\n",
      "|frozen vegetables|                50|             35|            2.89|null|null|\n",
      "|    grated cheese|                35|             25|             2.1|null|null|\n",
      "|        green tea|                50|             35|            0.34|null|null|\n",
      "|      ground beef|               100|             60|            4.47|null|null|\n",
      "|    herb & pepper|                25|             20|            0.28|null|null|\n",
      "|            honey|                90|             70|            0.12|null|null|\n",
      "+-----------------+------------------+---------------+----------------+----+----+\n",
      "only showing top 20 rows\n",
      "\n"
     ]
    }
   ],
   "source": [
    "item_details_df.show()"
   ]
  },
  {
   "cell_type": "code",
   "execution_count": 61,
   "metadata": {},
   "outputs": [],
   "source": [
    "item_details_df = item_details_df.drop('_c4')"
   ]
  },
  {
   "cell_type": "code",
   "execution_count": 62,
   "metadata": {},
   "outputs": [],
   "source": [
    "item_details_df = item_details_df.drop('_c5')"
   ]
  },
  {
   "cell_type": "code",
   "execution_count": 63,
   "metadata": {},
   "outputs": [
    {
     "name": "stdout",
     "output_type": "stream",
     "text": [
      "+-----------------+------------------+---------------+----------------+\n",
      "|             Item|Selling Price/unit|Cost Price/unit|Share of Revenue|\n",
      "+-----------------+------------------+---------------+----------------+\n",
      "|          avocado|                90|             60|            1.55|\n",
      "|          burgers|                90|             60|            2.27|\n",
      "|             cake|               150|             70|            3.79|\n",
      "|          cereals|                80|             40|            3.11|\n",
      "|        champagne|               230|            170|            2.34|\n",
      "|          chicken|                50|             40|            5.12|\n",
      "|        chocolate|                30|             21|             1.3|\n",
      "|          cookies|                25|             15|            1.34|\n",
      "|      cooking oil|               160|            130|            4.37|\n",
      "|             eggs|                65|             40|            5.56|\n",
      "|         escalope|                85|             60|            2.21|\n",
      "|     french fries|                50|             20|            0.24|\n",
      "|      fresh bread|                30|             15|            3.45|\n",
      "|  frozen smoothie|                40|             25|            3.17|\n",
      "|frozen vegetables|                50|             35|            2.89|\n",
      "|    grated cheese|                35|             25|             2.1|\n",
      "|        green tea|                50|             35|            0.34|\n",
      "|      ground beef|               100|             60|            4.47|\n",
      "|    herb & pepper|                25|             20|            0.28|\n",
      "|            honey|                90|             70|            0.12|\n",
      "+-----------------+------------------+---------------+----------------+\n",
      "only showing top 20 rows\n",
      "\n"
     ]
    }
   ],
   "source": [
    "item_details_df.show()"
   ]
  },
  {
   "cell_type": "code",
   "execution_count": 64,
   "metadata": {},
   "outputs": [
    {
     "name": "stdout",
     "output_type": "stream",
     "text": [
      "['burgers', 'avocado']   180\n",
      "['low fat yogurt', 'salmon']   75\n",
      "['low fat yogurt']   15\n",
      "['olive oil']   180\n",
      "['turkey', 'salmon']   170\n",
      "['low fat yogurt', 'milk']   65\n",
      "['green tea']   50\n",
      "['shrimp', 'salmon']   130\n",
      "['french fries', 'cooking oil']   210\n",
      "['avocado']   90\n",
      "['red wine', 'chocolate']   210\n",
      "['champagne', 'milk']   280\n",
      "['frozen smoothie', 'fresh bread']   70\n",
      "['herb & pepper', 'green tea']   75\n",
      "['mineral water', 'burgers', 'chocolate']   140\n"
     ]
    }
   ],
   "source": [
    "#total april revenue without recommendation\n",
    "apr_price = []\n",
    "for transaction in apr_lst:\n",
    "    total_sales = 0;\n",
    "    for item in transaction:\n",
    "        total_sales += item_details_df.filter(col('Item') == item).first().asDict()['Selling Price/unit']\n",
    "    apr_price.append(total_sales)\n",
    "    print(transaction,\" \", total_sales)"
   ]
  },
  {
   "cell_type": "code",
   "execution_count": 65,
   "metadata": {},
   "outputs": [],
   "source": [
    "def getExpectedIncreasedSalesOfAItem(confidence):\n",
    "    if confidence >= 0.0 and confidence <=0.3:\n",
    "        return 0.00\n",
    "    elif confidence >= 0.31 and confidence <=0.4:\n",
    "        return 0.05\n",
    "    elif confidence >= 0.41 and confidence <=0.5:\n",
    "        return 0.08\n",
    "    elif confidence >= 0.51 and confidence <=0.6:\n",
    "        return 0.10\n",
    "    elif confidence >= 0.61 and confidence <=0.7:\n",
    "        return 0.12\n",
    "    elif confidence >= 0.71 and confidence <=0.8:\n",
    "        return 0.15\n",
    "    elif confidence >= 0.81 and confidence <=0.9:\n",
    "        return 0.20\n",
    "    elif confidence >= 0.91 and confidence <=1.0:\n",
    "        return 0.25\n",
    "    else:\n",
    "        return 0.00"
   ]
  },
  {
   "cell_type": "code",
   "execution_count": 66,
   "metadata": {},
   "outputs": [
    {
     "name": "stdout",
     "output_type": "stream",
     "text": [
      "[1.0, 1.0, 1.0, 1.6, 1.0, 1.0, 0.0, 1.0, 1.0, 1.0, 1.0, 1.0, 1.0, 1.0, 3.25]\n",
      "expected perc [0.05, 0.05, 0.05, 0.08, 0.05, 0.05, 0.0, 0.05, 0.05, 0.05, 0.05, 0.05, 0.05, 0.05, 0.05]\n"
     ]
    }
   ],
   "source": [
    "#Recommended item for increased sale calculation\n",
    "may_recommended_item_sale = []\n",
    "lst_recommended_items = []\n",
    "lst_expected_perc = []\n",
    "for row in recommended_records:\n",
    "    new_items = ast.literal_eval(row.asDict()['Consequent'])\n",
    "    lst_recommended_items.append(new_items)\n",
    "    confidence = row.asDict()['Confidence']\n",
    "    additional_sales = 0.0\n",
    "    expected_perc = 0.0\n",
    "    for item in new_items:\n",
    "        expected_perc = expected_perc + getExpectedIncreasedSalesOfAItem(round(confidence, 2))\n",
    "        selling_price = item_details_df.filter(col('Item') == item).first().asDict()['Selling Price/unit']\n",
    "        additional_sales = additional_sales + (selling_price * getExpectedIncreasedSalesOfAItem(round(confidence, 2)))\n",
    "    may_recommended_item_sale.append(additional_sales)\n",
    "    lst_expected_perc.append(expected_perc)\n",
    "print(may_recommended_item_sale)\n",
    "print('expected perc', lst_expected_perc)"
   ]
  },
  {
   "cell_type": "code",
   "execution_count": 67,
   "metadata": {},
   "outputs": [
    {
     "name": "stdout",
     "output_type": "stream",
     "text": [
      "['burgers', 'avocado', 'mineral water']   181.0\n",
      "['low fat yogurt', 'salmon', 'mineral water']   76.0\n",
      "['low fat yogurt', 'mineral water']   16.0\n",
      "['olive oil', 'mineral water']   181.6\n",
      "['turkey', 'salmon', 'mineral water']   171.0\n",
      "['low fat yogurt', 'milk', 'mineral water']   66.0\n",
      "['green tea', 'mineral water']   50.0\n",
      "['shrimp', 'salmon', 'mineral water']   131.0\n",
      "['french fries', 'cooking oil', 'mineral water']   211.0\n",
      "['avocado', 'mineral water']   91.0\n",
      "['red wine', 'chocolate', 'mineral water']   211.0\n",
      "['champagne', 'milk', 'mineral water']   281.0\n",
      "['frozen smoothie', 'fresh bread', 'mineral water']   71.0\n",
      "['herb & pepper', 'green tea', 'mineral water']   76.0\n",
      "['mineral water', 'burgers', 'chocolate', 'eggs']   143.25\n"
     ]
    }
   ],
   "source": [
    "#show may transaction if recommendation was there\n",
    "i = 0\n",
    "for i in range(len(apr_price)):\n",
    "    apr_lst[i].extend(lst_recommended_items[i])\n",
    "    print(apr_lst[i],\" \", apr_price[i] + may_recommended_item_sale[i])"
   ]
  },
  {
   "cell_type": "code",
   "execution_count": 68,
   "metadata": {},
   "outputs": [
    {
     "data": {
      "text/plain": [
       "16.84999999999991"
      ]
     },
     "execution_count": 68,
     "metadata": {},
     "output_type": "execute_result"
    }
   ],
   "source": [
    "#Revennue for strategy 1\n",
    "after_MBA = sum(apr_price) + sum(may_recommended_item_sale) \n",
    "Actual_sales = sum(apr_price)\n",
    "after_MBA - Actual_sales\n",
    "    "
   ]
  },
  {
   "cell_type": "code",
   "execution_count": null,
   "metadata": {},
   "outputs": [],
   "source": []
  },
  {
   "cell_type": "code",
   "execution_count": 69,
   "metadata": {},
   "outputs": [],
   "source": [
    "##STRATEGY 2"
   ]
  },
  {
   "cell_type": "code",
   "execution_count": 70,
   "metadata": {},
   "outputs": [],
   "source": [
    "#arrange associated rules in ascending order for min confidence\n",
    "association_rules = association_rules.sort(col(\"Confidence\").asc())"
   ]
  },
  {
   "cell_type": "code",
   "execution_count": 71,
   "metadata": {},
   "outputs": [
    {
     "name": "stdout",
     "output_type": "stream",
     "text": [
      "+--------------------+--------------------+-------------------+\n",
      "|          Antecedent|          Consequent|         Confidence|\n",
      "+--------------------+--------------------+-------------------+\n",
      "|       ['chocolate']|       ['olive oil']| 0.1000813669650122|\n",
      "|   ['mineral water']|  ['low fat yogurt']|0.10067114093959731|\n",
      "|            ['milk']|['eggs', 'mineral...|0.10082304526748971|\n",
      "|            ['milk']|  ['low fat yogurt']|0.10185185185185186|\n",
      "|   ['mineral water']|         ['burgers']|0.10234899328859061|\n",
      "|   ['mineral water']|        ['tomatoes']|0.10234899328859061|\n",
      "|            ['milk']|            ['cake']|0.10288065843621401|\n",
      "|     ['ground beef']|['eggs', 'mineral...|0.10312075983717775|\n",
      "|       ['spaghetti']|            ['cake']|0.10413476263399693|\n",
      "|       ['chocolate']|         ['burgers']|0.10414971521562244|\n",
      "|    ['french fries']|            ['cake']| 0.1045241809672387|\n",
      "|            ['eggs']|            ['cake']|0.10608308605341245|\n",
      "|['frozen vegetabl...|  ['low fat yogurt']| 0.1062937062937063|\n",
      "|       ['green tea']|            ['cake']|0.10696266397578205|\n",
      "|       ['chocolate']|        ['escalope']|0.10740439381611065|\n",
      "|['frozen vegetabl...|            ['cake']| 0.1076923076923077|\n",
      "|            ['milk']|['mineral water',...| 0.1080246913580247|\n",
      "|            ['milk']|        ['tomatoes']| 0.1080246913580247|\n",
      "|            ['eggs']|          ['turkey']|0.10830860534124628|\n",
      "|       ['green tea']|['frozen vegetabl...|0.10898082744702321|\n",
      "+--------------------+--------------------+-------------------+\n",
      "only showing top 20 rows\n",
      "\n"
     ]
    }
   ],
   "source": [
    "association_rules.show()"
   ]
  },
  {
   "cell_type": "code",
   "execution_count": 72,
   "metadata": {},
   "outputs": [],
   "source": [
    "#load april transaction\n",
    "#load the april transaction\n",
    "import ast as ast\n",
    "apr_df = spark.read.csv(\"transactions_apr.csv\")\n",
    "apr_lst = []\n",
    "for row in apr_df.rdd.collect():\n",
    "    apr_lst.append(ast.literal_eval(row[0]))"
   ]
  },
  {
   "cell_type": "code",
   "execution_count": 73,
   "metadata": {},
   "outputs": [],
   "source": [
    "#Find the recommended item(Consequent)\n",
    "recommended_records = []\n",
    "for apr_tran in apr_lst:\n",
    "    itemset = set(apr_tran)\n",
    "    found = False\n",
    "    recommended_item = ''\n",
    "    for row in association_rules.collect():\n",
    "        antecedent_list = (ast.literal_eval(row.asDict()['Antecedent']))\n",
    "        antecedent_as_set = set(antecedent_list)\n",
    "        if itemset == antecedent_as_set:\n",
    "            #print(row)\n",
    "            recommended_item = row\n",
    "            found = True\n",
    "            break\n",
    "        \n",
    "    if not found:\n",
    "        #find the item with maximum confidence\n",
    "        min_conf = 999\n",
    "        for item in apr_tran:\n",
    "            single_item_as_set = set([item])\n",
    "            for row in association_rules.collect():\n",
    "                trans_item = (ast.literal_eval(row.asDict()['Antecedent']))\n",
    "                ruleset = set(trans_item)\n",
    "                #print(single_item_as_set, ruleset)\n",
    "                if single_item_as_set == ruleset:\n",
    "                    confidence = row.asDict()['Confidence']\n",
    "                    if(min_conf > confidence):\n",
    "                        min_conf = confidence\n",
    "                        recommended_item = row\n",
    "    recommended_records.append(recommended_item)"
   ]
  },
  {
   "cell_type": "code",
   "execution_count": 74,
   "metadata": {},
   "outputs": [
    {
     "data": {
      "text/plain": [
       "[Row(Antecedent=\"['burgers']\", Consequent=\"['pancakes']\", Confidence=0.12079510703363913),\n",
       " Row(Antecedent=\"['low fat yogurt']\", Consequent=\"['frozen vegetables']\", Confidence=0.13240418118466898),\n",
       " Row(Antecedent=\"['low fat yogurt']\", Consequent=\"['frozen vegetables']\", Confidence=0.13240418118466898),\n",
       " Row(Antecedent=\"['olive oil']\", Consequent=\"['spaghetti', 'mineral water']\", Confidence=0.15587044534412955),\n",
       " Row(Antecedent=\"['turkey']\", Consequent=\"['burgers']\", Confidence=0.1705756929637527),\n",
       " Row(Antecedent=\"['milk']\", Consequent=\"['eggs', 'mineral water']\", Confidence=0.10082304526748971),\n",
       " Row(Antecedent=\"['green tea']\", Consequent=\"['cake']\", Confidence=0.10696266397578205),\n",
       " Row(Antecedent=\"['shrimp']\", Consequent=\"['pancakes']\", Confidence=0.14738805970149252),\n",
       " Row(Antecedent=\"['french fries']\", Consequent=\"['cake']\", Confidence=0.1045241809672387),\n",
       " Row(Antecedent=\"['avocado']\", Consequent=\"['mineral water']\", Confidence=0.348),\n",
       " Row(Antecedent=\"['chocolate']\", Consequent=\"['olive oil']\", Confidence=0.1000813669650122),\n",
       " Row(Antecedent=\"['milk']\", Consequent=\"['eggs', 'mineral water']\", Confidence=0.10082304526748971),\n",
       " Row(Antecedent=\"['frozen smoothie']\", Consequent=\"['eggs']\", Confidence=0.17473684210526316),\n",
       " Row(Antecedent=\"['green tea']\", Consequent=\"['cake']\", Confidence=0.10696266397578205),\n",
       " Row(Antecedent=\"['chocolate']\", Consequent=\"['olive oil']\", Confidence=0.1000813669650122)]"
      ]
     },
     "execution_count": 74,
     "metadata": {},
     "output_type": "execute_result"
    }
   ],
   "source": [
    "#Consequents with low confidence score for discounting\n",
    "recommended_records"
   ]
  },
  {
   "cell_type": "code",
   "execution_count": 75,
   "metadata": {},
   "outputs": [
    {
     "name": "stdout",
     "output_type": "stream",
     "text": [
      "['pancakes']\n",
      "['frozen vegetables']\n",
      "['frozen vegetables']\n",
      "['spaghetti', 'mineral water']\n",
      "['burgers']\n",
      "['eggs', 'mineral water']\n",
      "['cake']\n",
      "['pancakes']\n",
      "['cake']\n",
      "['mineral water']\n",
      "['olive oil']\n",
      "['eggs', 'mineral water']\n",
      "['eggs']\n",
      "['cake']\n",
      "['olive oil']\n"
     ]
    }
   ],
   "source": [
    "#print Consequent or discount item\n",
    "lst_discount_item = []\n",
    "for row in recommended_records:\n",
    "    lst_discount_item.append(ast.literal_eval(row.asDict()['Consequent']))\n",
    "    print(row.asDict()['Consequent'])"
   ]
  },
  {
   "cell_type": "code",
   "execution_count": 76,
   "metadata": {},
   "outputs": [
    {
     "name": "stdout",
     "output_type": "stream",
     "text": [
      "0.12079510703363913\n",
      "0.13240418118466898\n",
      "0.13240418118466898\n",
      "0.15587044534412955\n",
      "0.1705756929637527\n",
      "0.10082304526748971\n",
      "0.10696266397578205\n",
      "0.14738805970149252\n",
      "0.1045241809672387\n",
      "0.348\n",
      "0.1000813669650122\n",
      "0.10082304526748971\n",
      "0.17473684210526316\n",
      "0.10696266397578205\n",
      "0.1000813669650122\n"
     ]
    }
   ],
   "source": [
    "#print Confidence\n",
    "for row in recommended_records:\n",
    "    print(row.asDict()['Confidence'])"
   ]
  },
  {
   "cell_type": "code",
   "execution_count": 77,
   "metadata": {},
   "outputs": [],
   "source": [
    "def getExpectedIncreasedSalesOfAItemForDiscounting(confidence):\n",
    "    if confidence >= 0.0 and confidence <=0.1:\n",
    "        return 0.00\n",
    "    elif confidence >= 0.11 and confidence <=0.2:\n",
    "        return 0.05\n",
    "    elif confidence >= 0.21 and confidence <=0.3:\n",
    "        return 0.08\n",
    "    elif confidence >= 0.31 and confidence <=0.4:\n",
    "        return 0.10\n",
    "    elif confidence >= 0.41 and confidence <=0.5:\n",
    "        return 0.12\n",
    "    elif confidence >= 0.51 and confidence <=0.6:\n",
    "        return 0.15\n",
    "    elif confidence >= 0.61 and confidence <=0.7:\n",
    "        return 0.18\n",
    "    elif confidence >= 0.71 and confidence <=0.8:\n",
    "        return 0.20\n",
    "    elif confidence >= 0.81 and confidence <=0.9:\n",
    "        return 0.25\n",
    "    elif confidence >= 0.91 and confidence <=1.0:\n",
    "        return 0.30\n",
    "    else:\n",
    "        return 0.00"
   ]
  },
  {
   "cell_type": "code",
   "execution_count": 78,
   "metadata": {},
   "outputs": [
    {
     "name": "stdout",
     "output_type": "stream",
     "text": [
      "0.05\n",
      "0.05\n",
      "0.05\n",
      "0.05\n",
      "0.05\n",
      "0.0\n",
      "0.0\n",
      "0.05\n",
      "0.0\n",
      "0.1\n",
      "0.0\n",
      "0.0\n",
      "0.05\n",
      "0.0\n",
      "0.0\n"
     ]
    }
   ],
   "source": [
    "#print expected increase\n",
    "for row in recommended_records:\n",
    "    print(getExpectedIncreasedSalesOfAItemForDiscounting(row.asDict()['Confidence']))"
   ]
  },
  {
   "cell_type": "code",
   "execution_count": 79,
   "metadata": {},
   "outputs": [
    {
     "name": "stdout",
     "output_type": "stream",
     "text": [
      "['burgers']\n",
      "['low fat yogurt']\n",
      "['low fat yogurt']\n",
      "['olive oil']\n",
      "['turkey']\n",
      "['milk']\n",
      "['green tea']\n",
      "['shrimp']\n",
      "['french fries']\n",
      "['avocado']\n",
      "['chocolate']\n",
      "['milk']\n",
      "['frozen smoothie']\n",
      "['green tea']\n",
      "['chocolate']\n"
     ]
    }
   ],
   "source": [
    "#print Antecedent\n",
    "for row in recommended_records:\n",
    "    print(row.asDict()['Antecedent'])"
   ]
  },
  {
   "cell_type": "code",
   "execution_count": 80,
   "metadata": {},
   "outputs": [],
   "source": [
    "# discounting price that could be added in the april transaction to get may transaction \n",
    "lst_discount_perc = []\n",
    "lst_additional_revenue = []\n",
    "for row in recommended_records:\n",
    "    new_items = ast.literal_eval(row.asDict()['Consequent'])\n",
    "    lst_recommended_items.append(new_items)\n",
    "    confidence = row.asDict()['Confidence']\n",
    "    expected_increase = getExpectedIncreasedSalesOfAItemForDiscounting(round(confidence, 2))\n",
    "    additional_revenue = 0.0\n",
    "    discount_items = []\n",
    "    for item in new_items:      \n",
    "        cost_price = item_details_df.filter(col('Item') == item).first().asDict()['Cost Price/unit']\n",
    "        selling_price = item_details_df.filter(col('Item') == item).first().asDict()['Selling Price/unit']\n",
    "        share_revenue = item_details_df.filter(col('Item') == item).first().asDict()['Share of Revenue']\n",
    "        profit_ratio = (selling_price - cost_price) / selling_price\n",
    "        discount_factor = (1.0 / share_revenue) * profit_ratio\n",
    "        discount_percentage = discount_factor * (1.0 / confidence)\n",
    "        discount_items.append(discount_percentage)\n",
    "        additional_revenue = additional_revenue + ((expected_increase * selling_price) - (1-discount_percentage))\n",
    "        #print('item ', item , 'discounting Percentage ', discount_percentage)\n",
    "    lst_additional_revenue.append(additional_revenue)\n",
    "    lst_discount_perc.append(discount_items)"
   ]
  },
  {
   "cell_type": "code",
   "execution_count": 81,
   "metadata": {},
   "outputs": [
    {
     "data": {
      "text/plain": [
       "[[1.8937701662943662],\n",
       " [0.7840101985066472],\n",
       " [0.7840101985066472],\n",
       " [0.5148944153759564, 1.329195666212241],\n",
       " [0.8608663729809102],\n",
       " [0.6861073150898435, 2.0549103619348297],\n",
       " [1.3156104279716563],\n",
       " [1.5520807479109788],\n",
       " [1.3463027868572701],\n",
       " [0.5953514955229569],\n",
       " [3.2653169668951594],\n",
       " [0.6861073150898435, 2.0549103619348297],\n",
       " [0.39588347857395273],\n",
       " [1.3156104279716563],\n",
       " [3.2653169668951594]]"
      ]
     },
     "execution_count": 81,
     "metadata": {},
     "output_type": "execute_result"
    }
   ],
   "source": [
    "#discount for discounted item\n",
    "lst_discount_perc"
   ]
  },
  {
   "cell_type": "code",
   "execution_count": 82,
   "metadata": {},
   "outputs": [
    {
     "data": {
      "text/plain": [
       "[5.893770166294367,\n",
       " 2.284010198506647,\n",
       " 2.284010198506647,\n",
       " 4.344090081588197,\n",
       " 4.36086637298091,\n",
       " 0.7410176770246731,\n",
       " 7.815610427971656,\n",
       " 5.552080747910979,\n",
       " 0.3463027868572701,\n",
       " 1.5953514955229569,\n",
       " 2.2653169668951594,\n",
       " 0.7410176770246731,\n",
       " 2.6458834785739525,\n",
       " 7.815610427971656,\n",
       " 2.2653169668951594]"
      ]
     },
     "execution_count": 82,
     "metadata": {},
     "output_type": "execute_result"
    }
   ],
   "source": [
    "#additional revenue for discount items\n",
    "lst_additional_revenue"
   ]
  },
  {
   "cell_type": "code",
   "execution_count": 83,
   "metadata": {},
   "outputs": [
    {
     "data": {
      "text/plain": [
       "[180, 75, 15, 180, 170, 65, 50, 130, 210, 90, 210, 280, 70, 75, 140]"
      ]
     },
     "execution_count": 83,
     "metadata": {},
     "output_type": "execute_result"
    }
   ],
   "source": [
    "# sum april transaction and addtional discounting revenue\n",
    "apr_price"
   ]
  },
  {
   "cell_type": "code",
   "execution_count": 84,
   "metadata": {},
   "outputs": [
    {
     "name": "stdout",
     "output_type": "stream",
     "text": [
      "185.89377016629436\n",
      "77.28401019850665\n",
      "17.284010198506646\n",
      "184.3440900815882\n",
      "174.36086637298092\n",
      "65.74101767702467\n",
      "57.815610427971656\n",
      "135.552080747911\n",
      "210.34630278685728\n",
      "91.59535149552296\n",
      "212.26531696689517\n",
      "280.7410176770247\n",
      "72.64588347857395\n",
      "82.81561042797165\n",
      "142.26531696689517\n"
     ]
    }
   ],
   "source": [
    "for i in range(len(apr_price)):\n",
    "    print(apr_price[i] + lst_additional_revenue[i])"
   ]
  },
  {
   "cell_type": "code",
   "execution_count": 86,
   "metadata": {},
   "outputs": [
    {
     "name": "stdout",
     "output_type": "stream",
     "text": [
      "186.89377016629436\n",
      "78.28401019850665\n",
      "18.284010198506646\n",
      "185.9440900815882\n",
      "175.36086637298092\n",
      "66.74101767702467\n",
      "57.815610427971656\n",
      "136.552080747911\n",
      "211.34630278685728\n",
      "92.59535149552296\n",
      "213.26531696689517\n",
      "281.7410176770247\n",
      "73.64588347857395\n",
      "83.81561042797165\n",
      "145.51531696689517\n"
     ]
    }
   ],
   "source": [
    "#total revenue is april_transaction + addition revenue of recomendation item + additional revenue of discounting item\n",
    "lst_total_revenue_after_strategy1_and_2 = []\n",
    "for i in range(len(apr_price)):\n",
    "    lst_total_revenue_after_strategy1_and_2.append(apr_price[i] + may_recommended_item_sale[i] + lst_additional_revenue[i])\n",
    "    print(apr_price[i] + may_recommended_item_sale[i] + lst_additional_revenue[i])"
   ]
  },
  {
   "cell_type": "code",
   "execution_count": 87,
   "metadata": {},
   "outputs": [
    {
     "data": {
      "text/plain": [
       "67.80025567052508"
      ]
     },
     "execution_count": 87,
     "metadata": {},
     "output_type": "execute_result"
    }
   ],
   "source": [
    "sum(lst_total_revenue_after_strategy1_and_2) - sum(apr_price)"
   ]
  },
  {
   "cell_type": "markdown",
   "metadata": {},
   "source": [
    "# Comment\n",
    "### There is net increase revenue of 67.80 after implmenting strategy 1 and strategy 2. Company should go for it..\n"
   ]
  },
  {
   "cell_type": "code",
   "execution_count": null,
   "metadata": {},
   "outputs": [],
   "source": []
  }
 ],
 "metadata": {
  "kernelspec": {
   "display_name": "Python 3",
   "language": "python",
   "name": "python3"
  },
  "language_info": {
   "codemirror_mode": {
    "name": "ipython",
    "version": 3
   },
   "file_extension": ".py",
   "mimetype": "text/x-python",
   "name": "python",
   "nbconvert_exporter": "python",
   "pygments_lexer": "ipython3",
   "version": "3.7.6"
  }
 },
 "nbformat": 4,
 "nbformat_minor": 4
}
